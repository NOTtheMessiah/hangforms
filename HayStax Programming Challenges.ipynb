{
 "cells": [
  {
   "cell_type": "markdown",
   "metadata": {},
   "source": [
    "### Brian Cohen"
   ]
  },
  {
   "cell_type": "code",
   "execution_count": 1,
   "metadata": {},
   "outputs": [],
   "source": [
    "import string\n",
    "import random\n",
    "\n",
    "import math"
   ]
  },
  {
   "cell_type": "code",
   "execution_count": 2,
   "metadata": {},
   "outputs": [],
   "source": [
    "from functools import partial\n",
    "\n",
    "class Infix(object):\n",
    "    def __init__(self, func):\n",
    "        self.func = func\n",
    "    def __or__(self, other):\n",
    "        return self.func(other)\n",
    "    def __ror__(self, other):\n",
    "        return Infix(partial(self.func, other))\n",
    "    def __call__(self, v1, v2):\n",
    "        return self.func(v1, v2)\n",
    "\n",
    "p = Infix(lambda x,f:f(x)) #homemade pipeline"
   ]
  },
  {
   "cell_type": "markdown",
   "metadata": {},
   "source": [
    "### 1\n",
    "Have the function LongestWord(sen) take the sen parameter being passed and return the largest\n",
    "word in the string. If there are two or more words that are the same length, return the first word from\n",
    "the string with that length. Ignore punctua.on and assume sen will not be empty. For example, the\n",
    "string “This is a test” should return the string “This”. The string “I could do this all day!!!!!!!” should\n",
    "return “could”."
   ]
  },
  {
   "cell_type": "code",
   "execution_count": 3,
   "metadata": {
    "scrolled": true
   },
   "outputs": [],
   "source": [
    "def longestWord(sen:str) -> str:\n",
    "    spl = ls.split()\n",
    "\n",
    "    i,n = max(enumerate(map(len,spl)),key=lambda x:x[1])\n",
    "    #i,n = spl |p| (lambda x:map(len,x)) |p| enumerate |p| (lambda x:max(x,key=lambda y:y[1])) # trying to use homemade pipes\n",
    "    return spl[i]"
   ]
  },
  {
   "cell_type": "markdown",
   "metadata": {},
   "source": [
    "### 2\n",
    "Write a program that prints the numbers from 1 to 100. But for mul.ples of three print “Three” instead\n",
    "of the number and for the mul.ples of five print “Five”. For numbers which are mul.ples of both three\n",
    "and five print “ThreeFive” instead of the number."
   ]
  },
  {
   "cell_type": "code",
   "execution_count": 4,
   "metadata": {
    "scrolled": true
   },
   "outputs": [
    {
     "name": "stdout",
     "output_type": "stream",
     "text": [
      "1\n",
      "2\n",
      "Three\n",
      "4\n",
      "Five\n",
      "Three\n",
      "7\n",
      "8\n",
      "Three\n",
      "Five\n",
      "11\n",
      "Three\n",
      "13\n",
      "14\n",
      "ThreeFive\n",
      "16\n",
      "17\n",
      "Three\n",
      "19\n",
      "Five\n",
      "Three\n",
      "22\n",
      "23\n",
      "Three\n",
      "Five\n",
      "26\n",
      "Three\n",
      "28\n",
      "29\n",
      "ThreeFive\n",
      "31\n",
      "32\n",
      "Three\n",
      "34\n",
      "Five\n",
      "Three\n",
      "37\n",
      "38\n",
      "Three\n",
      "Five\n",
      "41\n",
      "Three\n",
      "43\n",
      "44\n",
      "ThreeFive\n",
      "46\n",
      "47\n",
      "Three\n",
      "49\n",
      "Five\n",
      "Three\n",
      "52\n",
      "53\n",
      "Three\n",
      "Five\n",
      "56\n",
      "Three\n",
      "58\n",
      "59\n",
      "ThreeFive\n",
      "61\n",
      "62\n",
      "Three\n",
      "64\n",
      "Five\n",
      "Three\n",
      "67\n",
      "68\n",
      "Three\n",
      "Five\n",
      "71\n",
      "Three\n",
      "73\n",
      "74\n",
      "ThreeFive\n",
      "76\n",
      "77\n",
      "Three\n",
      "79\n",
      "Five\n",
      "Three\n",
      "82\n",
      "83\n",
      "Three\n",
      "Five\n",
      "86\n",
      "Three\n",
      "88\n",
      "89\n",
      "ThreeFive\n",
      "91\n",
      "92\n",
      "Three\n",
      "94\n",
      "Five\n",
      "Three\n",
      "97\n",
      "98\n",
      "Three\n",
      "Five\n"
     ]
    }
   ],
   "source": [
    "for i in range(1,101):\n",
    "    def fizzbuzz(y,x,s):\n",
    "        if y%x == 0: return s\n",
    "        else: return ''\n",
    "    d3, d5 = fizzbuzz(i,3,'Three'), fizzbuzz(i,5,'Five')\n",
    "    if d3 or d5:\n",
    "        s = d3 + d5\n",
    "    else:\n",
    "        s = str(i)\n",
    "    print(s)"
   ]
  },
  {
   "cell_type": "markdown",
   "metadata": {},
   "source": [
    "### 3\n",
    "Write a function that takes an integer argument and returns True if the number is prime, False\n",
    "otherwise."
   ]
  },
  {
   "cell_type": "code",
   "execution_count": 7,
   "metadata": {},
   "outputs": [],
   "source": [
    "# brute forces divisibility of primes from 2 to floor(sqrt(n))\n",
    "def brutePrime(n:int, debug=False):\n",
    "    if n <= 2: return True\n",
    "    for i in range(2,math.floor(math.sqrt(n))+1):\n",
    "        if n%i==0:\n",
    "            if debug: print(str(i)+\" divides \"+str(n))\n",
    "            return False\n",
    "    return True"
   ]
  },
  {
   "cell_type": "code",
   "execution_count": 8,
   "metadata": {},
   "outputs": [
    {
     "name": "stdout",
     "output_type": "stream",
     "text": [
      "13 divides 169\n",
      "False\n",
      "5 divides 55\n",
      "False\n",
      "True\n"
     ]
    }
   ],
   "source": [
    "print(brutePrime(13*13,True))\n",
    "print(brutePrime(55, True))\n",
    "print(brutePrime(53, True))"
   ]
  },
  {
   "cell_type": "markdown",
   "metadata": {},
   "source": [
    "### 5\n",
    "\n",
    "Write a function to check if a string is a palindrome. For example, “race car” is a palindrome. Ignore\n",
    "spaces."
   ]
  },
  {
   "cell_type": "code",
   "execution_count": 12,
   "metadata": {},
   "outputs": [
    {
     "name": "stdout",
     "output_type": "stream",
     "text": [
      "True\n",
      "True\n",
      "False\n"
     ]
    }
   ],
   "source": [
    "def isPalindrome(sen: str) -> bool:\n",
    "    normalized = sen.lower().replace(' ','').replace(',','').replace('.','') # normalizes case and strips spaces\n",
    "    return normalized == normalized[::-1] # checks if the normalized string is the same backwards\n",
    "\n",
    "print(isPalindrome(\"A man, a plan, a canal, Panama\"))\n",
    "print(isPalindrome(\"race car\"))\n",
    "print(isPalindrome(\"A panel a llama a pan\")) # False"
   ]
  },
  {
   "cell_type": "markdown",
   "metadata": {},
   "source": [
    "### 7\n",
    "Show how to multiply an integer by 7 without using the multiply operator."
   ]
  },
  {
   "cell_type": "code",
   "execution_count": 13,
   "metadata": {},
   "outputs": [],
   "source": [
    "# using a bitshift and subtraction\n",
    "def mult7(i : int):\n",
    "    return (i << 3) - i\n",
    "\n",
    "#alternatively the trivial inefficient case\n",
    "def mult7alt(i : int):\n",
    "    return i + i + i + i + i + i + i"
   ]
  },
  {
   "cell_type": "code",
   "execution_count": 14,
   "metadata": {
    "scrolled": true
   },
   "outputs": [
    {
     "name": "stdout",
     "output_type": "stream",
     "text": [
      "True\n",
      "True\n"
     ]
    }
   ],
   "source": [
    "print(mult7(7) == 7*7 and mult7(4) == 7*4 and mult7(-1) == -7)\n",
    "print(mult7alt(7) == 7*7 and mult7alt(4) == 7*4)"
   ]
  },
  {
   "cell_type": "markdown",
   "metadata": {},
   "source": [
    "## Extra Notes\n",
    "\n",
    "Down here I was playing around with the library hypothesis which generates and shrinks test cases from given properties, it is comparible to Haskell's QuickCheck library and is much more powerful than Unit testing.\n",
    "\n",
    "Also I was trying to come up with more efficient primality checkers mostly out of curiosity."
   ]
  },
  {
   "cell_type": "code",
   "execution_count": 15,
   "metadata": {},
   "outputs": [],
   "source": [
    "from hypothesis import given"
   ]
  },
  {
   "cell_type": "code",
   "execution_count": 16,
   "metadata": {},
   "outputs": [],
   "source": [
    "import hypothesis"
   ]
  },
  {
   "cell_type": "code",
   "execution_count": 17,
   "metadata": {},
   "outputs": [],
   "source": [
    "ls = ''.join([hypothesis.strategies.characters(whitelist_categories=('Nd', 'Lu', 'Ll', 'Zs')).example() for i in range(50)])"
   ]
  },
  {
   "cell_type": "code",
   "execution_count": 20,
   "metadata": {
    "scrolled": true
   },
   "outputs": [
    {
     "data": {
      "text/plain": [
       "'𝞯 0Ⴧ0ӄ𝚔'"
      ]
     },
     "execution_count": 20,
     "metadata": {},
     "output_type": "execute_result"
    }
   ],
   "source": [
    "hypothesis.strategies.text(hypothesis.strategies.characters(whitelist_categories=('Nd', 'Lu', 'Ll', 'Zs'))).example()"
   ]
  },
  {
   "cell_type": "code",
   "execution_count": 21,
   "metadata": {},
   "outputs": [
    {
     "data": {
      "text/plain": [
       "['v੩ℽ',\n",
       " '𝙄0',\n",
       " '00',\n",
       " '0𝞐00𐓓0',\n",
       " 'ḇɪ0ῢⰟ',\n",
       " '0',\n",
       " 'Ӥʮ𝒘',\n",
       " 'ｕ0߀𝜲0',\n",
       " '᠓',\n",
       " '𑜵𝞐Ἳ𐳋ჲᴅ𑙖',\n",
       " '0',\n",
       " 'o0',\n",
       " '𐐺𐓣𐲨00']"
      ]
     },
     "execution_count": 21,
     "metadata": {},
     "output_type": "execute_result"
    }
   ],
   "source": [
    "# This generates unicode which likely won't render on LaTeX/PDF and I don't have time for XeTeX\n",
    "hypothesis.strategies.text(\n",
    "    hypothesis.strategies.characters(whitelist_categories=('Nd', 'Lu', 'Ll', 'Zs')),\n",
    "    min_size=30).example().split()"
   ]
  },
  {
   "cell_type": "code",
   "execution_count": 22,
   "metadata": {},
   "outputs": [],
   "source": [
    "def checkPseudoPrime(n:int, a = None, debug=False):\n",
    "    # via Fermat's little theorem\n",
    "    if not a:\n",
    "        a = random.randint(2,n)\n",
    "    if debug: print(a)\n",
    "    return (a ** n) % n == a"
   ]
  },
  {
   "cell_type": "code",
   "execution_count": 23,
   "metadata": {},
   "outputs": [],
   "source": [
    "def efficientPseudoPrime(n:int, debug=False):\n",
    "    failedPrimality = False\n",
    "    for t in range(1,math.ceil(math.log(n))+1):\n",
    "        failedPrimality = isPseudoPrime(n, debug=debug)\n",
    "        if failedPrimality:\n",
    "            return False\n",
    "    return True"
   ]
  }
 ],
 "metadata": {
  "@webio": {
   "lastCommId": null,
   "lastKernelId": null
  },
  "kernelspec": {
   "display_name": "Python 3",
   "language": "python",
   "name": "python3"
  },
  "language_info": {
   "codemirror_mode": {
    "name": "ipython",
    "version": 3
   },
   "file_extension": ".py",
   "mimetype": "text/x-python",
   "name": "python",
   "nbconvert_exporter": "python",
   "pygments_lexer": "ipython3",
   "version": "3.7.4"
  }
 },
 "nbformat": 4,
 "nbformat_minor": 2
}
